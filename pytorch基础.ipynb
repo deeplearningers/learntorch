{
 "cells": [
  {
   "cell_type": "code",
   "execution_count": 1,
   "metadata": {},
   "outputs": [],
   "source": [
    "from __future__ import print_function\n",
    "import torch\n",
    "import numpy as np"
   ]
  },
  {
   "cell_type": "code",
   "execution_count": 2,
   "metadata": {},
   "outputs": [
    {
     "name": "stdout",
     "output_type": "stream",
     "text": [
      "1.5.1+cpu\n"
     ]
    }
   ],
   "source": [
    "print(torch.__version__)"
   ]
  },
  {
   "cell_type": "code",
   "execution_count": 3,
   "metadata": {},
   "outputs": [
    {
     "name": "stdout",
     "output_type": "stream",
     "text": [
      "tensor([[5.8641e-19, 4.5915e-41],\n",
      "        [5.8641e-19, 4.5915e-41]])\n"
     ]
    }
   ],
   "source": [
    "# 定义矩阵\n",
    "x = torch.empty(2, 2)\n",
    "print(x)"
   ]
  },
  {
   "cell_type": "code",
   "execution_count": 5,
   "metadata": {},
   "outputs": [
    {
     "name": "stdout",
     "output_type": "stream",
     "text": [
      "tensor([[-0.7061,  0.6910],\n",
      "        [ 0.0308,  0.1461]])\n"
     ]
    }
   ],
   "source": [
    "# 定义随机初始化矩阵\n",
    "x = torch.randn(2, 2)\n",
    "print(x)"
   ]
  },
  {
   "cell_type": "code",
   "execution_count": 6,
   "metadata": {},
   "outputs": [
    {
     "name": "stdout",
     "output_type": "stream",
     "text": [
      "tensor([[0., 0., 0.],\n",
      "        [0., 0., 0.],\n",
      "        [0., 0., 0.]])\n"
     ]
    }
   ],
   "source": [
    "# 定义初始化为零\n",
    "x = torch.zeros(3, 3)\n",
    "print(x)"
   ]
  },
  {
   "cell_type": "code",
   "execution_count": 7,
   "metadata": {},
   "outputs": [
    {
     "name": "stdout",
     "output_type": "stream",
     "text": [
      "tensor([5.1000, 2.0000, 3.0000, 1.0000])\n"
     ]
    }
   ],
   "source": [
    "# 定义数据为tensor\n",
    "x = torch.tensor([5.1, 2., 3., 1.])\n",
    "print(x)"
   ]
  },
  {
   "cell_type": "code",
   "execution_count": 8,
   "metadata": {},
   "outputs": [
    {
     "name": "stdout",
     "output_type": "stream",
     "text": [
      "tensor([12., 14., 16., 18., 20., 22., 24., 26.])\n"
     ]
    }
   ],
   "source": [
    "# 操作\n",
    "a = torch.tensor([1.,2.,3.,4.,5.,6.,7.,8.])\n",
    "b = torch.tensor([11.,12.,13.,14.,15.,16.,17.,18.])\n",
    "c = a.add(b)\n",
    "print(c)"
   ]
  },
  {
   "cell_type": "code",
   "execution_count": 9,
   "metadata": {},
   "outputs": [
    {
     "name": "stdout",
     "output_type": "stream",
     "text": [
      "tensor([[12., 14., 16., 18.],\n",
      "        [20., 22., 24., 26.]]) torch.Size([2, 4]) torch.Size([2, 4])\n"
     ]
    }
   ],
   "source": [
    "# 维度变换 2x4\n",
    "a = a.view(-1, 4)\n",
    "b = b.view(-1, 4)\n",
    "c = torch.add(a, b)\n",
    "print(c, a.size(), b.size())"
   ]
  },
  {
   "cell_type": "code",
   "execution_count": 10,
   "metadata": {},
   "outputs": [
    {
     "name": "stdout",
     "output_type": "stream",
     "text": [
      "\n",
      "a = [[1. 2. 3. 4.]\n",
      " [5. 6. 7. 8.]] \n",
      "b = [[11. 12. 13. 14.]\n",
      " [15. 16. 17. 18.]]\n"
     ]
    }
   ],
   "source": [
    "# torch to numpy and visa\n",
    "na = a.numpy()\n",
    "nb = b.numpy()\n",
    "print(\"\\na =\",na,\"\\nb =\", nb)"
   ]
  },
  {
   "cell_type": "code",
   "execution_count": 11,
   "metadata": {},
   "outputs": [
    {
     "name": "stdout",
     "output_type": "stream",
     "text": [
      "[[21. 22. 23. 24.]\n",
      " [25. 26. 27. 28.]]\n",
      "tensor([[-9., -8., -7., -6.],\n",
      "        [-5., -4., -3., -2.]]) \n",
      " sum =  torch.Size([2, 4])\n"
     ]
    }
   ],
   "source": [
    "# 操作\n",
    "d = np.array([21.,22.,23.,24.,25.,26.,27.,28.], dtype=np.float32)\n",
    "print(d.reshape(2, 4))\n",
    "d = torch.from_numpy(d.reshape(2, 4))\n",
    "sum = torch.sub(c, d)\n",
    "print(sum, \"\\n sum = \", sum.size())"
   ]
  },
  {
   "cell_type": "code",
   "execution_count": 14,
   "metadata": {},
   "outputs": [
    {
     "name": "stdout",
     "output_type": "stream",
     "text": [
      "1\n"
     ]
    }
   ],
   "source": [
    "# using CUDA\n",
    "if torch.cuda.is_available():\n",
    "    result = d.cuda() + c.cuda()\n",
    "    print(\"\\n result = \", result)\n",
    "else:\n",
    "    print(1)"
   ]
  },
  {
   "cell_type": "code",
   "execution_count": 15,
   "metadata": {},
   "outputs": [
    {
     "name": "stdout",
     "output_type": "stream",
     "text": [
      "\n",
      "x= tensor([[-1.3432,  0.5084, -1.4120, -2.0212, -1.0864]], requires_grad=True) \n",
      "y= tensor([[ 1.4878,  1.7829, -1.6050],\n",
      "        [ 1.0427,  0.2135,  1.7242],\n",
      "        [-1.4492, -1.0604,  0.5614],\n",
      "        [-0.9793, -0.6624, -2.6776],\n",
      "        [ 0.7742, -0.2585, -0.1218]], requires_grad=True) \n",
      "z= tensor([[-0.4246],\n",
      "        [ 0.3049],\n",
      "        [ 0.3086]], requires_grad=True)\n",
      "tensor([[-0.5834,  0.1546,  0.4652, -0.6126, -0.4451]]) tensor([[ 0.5703, -0.4096, -0.4145],\n",
      "        [-0.2159,  0.1550,  0.1569],\n",
      "        [ 0.5995, -0.4306, -0.4358],\n",
      "        [ 0.8582, -0.6163, -0.6238],\n",
      "        [ 0.4613, -0.3313, -0.3353]]) tensor([[1.7162],\n",
      "        [0.8308],\n",
      "        [7.7839]])\n"
     ]
    }
   ],
   "source": [
    "# 自动梯度\n",
    "#requires_grad需要计算梯度；\n",
    "x = torch.randn(1, 5, requires_grad=True)\n",
    "y = torch.randn(5, 3, requires_grad=True)\n",
    "z = torch.randn(3, 1, requires_grad=True)\n",
    "print(\"\\nx=\",x, \"\\ny=\",y, \"\\nz=\",z)\n",
    "xy = torch.matmul(x, y)\n",
    "xyz = torch.matmul(xy, z)\n",
    "xyz.backward()\n",
    "print(x.grad, y.grad, z.grad)"
   ]
  },
  {
   "cell_type": "code",
   "execution_count": 6,
   "metadata": {},
   "outputs": [],
   "source": [
    "a=torch.ones(3,1,2)\n",
    "b=torch.ones(2,1)\n",
    "c=torch.ones(2,3)"
   ]
  },
  {
   "cell_type": "code",
   "execution_count": 4,
   "metadata": {},
   "outputs": [
    {
     "data": {
      "text/plain": [
       "torch.Size([3, 2, 2])"
      ]
     },
     "execution_count": 4,
     "metadata": {},
     "output_type": "execute_result"
    }
   ],
   "source": [
    " (a+b).size()"
   ]
  },
  {
   "cell_type": "code",
   "execution_count": 7,
   "metadata": {},
   "outputs": [
    {
     "ename": "RuntimeError",
     "evalue": "The size of tensor a (2) must match the size of tensor b (3) at non-singleton dimension 2",
     "output_type": "error",
     "traceback": [
      "\u001b[1;31m---------------------------------------------------------------------------\u001b[0m",
      "\u001b[1;31mRuntimeError\u001b[0m                              Traceback (most recent call last)",
      "\u001b[1;32m<ipython-input-7-b0d8ef0243af>\u001b[0m in \u001b[0;36m<module>\u001b[1;34m\u001b[0m\n\u001b[1;32m----> 1\u001b[1;33m \u001b[1;33m(\u001b[0m\u001b[0ma\u001b[0m\u001b[1;33m+\u001b[0m\u001b[0mc\u001b[0m\u001b[1;33m)\u001b[0m\u001b[1;33m.\u001b[0m\u001b[0msize\u001b[0m\u001b[1;33m(\u001b[0m\u001b[1;33m)\u001b[0m\u001b[1;33m\u001b[0m\u001b[1;33m\u001b[0m\u001b[0m\n\u001b[0m",
      "\u001b[1;31mRuntimeError\u001b[0m: The size of tensor a (2) must match the size of tensor b (3) at non-singleton dimension 2"
     ]
    }
   ],
   "source": [
    "(a+c).size()"
   ]
  },
  {
   "cell_type": "code",
   "execution_count": 8,
   "metadata": {},
   "outputs": [],
   "source": [
    " a=torch.randn(2,2)"
   ]
  },
  {
   "cell_type": "code",
   "execution_count": 9,
   "metadata": {},
   "outputs": [],
   "source": [
    "b=a"
   ]
  },
  {
   "cell_type": "code",
   "execution_count": 11,
   "metadata": {},
   "outputs": [
    {
     "data": {
      "text/plain": [
       "tensor([[ 1.5183,  1.2175],\n",
       "        [-0.7060,  0.1683]])"
      ]
     },
     "execution_count": 11,
     "metadata": {},
     "output_type": "execute_result"
    }
   ],
   "source": [
    "a"
   ]
  },
  {
   "cell_type": "code",
   "execution_count": 12,
   "metadata": {},
   "outputs": [
    {
     "data": {
      "text/plain": [
       "tensor([[ 1.5183,  1.2175],\n",
       "        [-0.7060,  0.1683]])"
      ]
     },
     "execution_count": 12,
     "metadata": {},
     "output_type": "execute_result"
    }
   ],
   "source": [
    "b"
   ]
  },
  {
   "cell_type": "code",
   "execution_count": 13,
   "metadata": {},
   "outputs": [],
   "source": [
    "c=a.view(4)"
   ]
  },
  {
   "cell_type": "code",
   "execution_count": 14,
   "metadata": {},
   "outputs": [
    {
     "data": {
      "text/plain": [
       "tensor([ 1.5183,  1.2175, -0.7060,  0.1683])"
      ]
     },
     "execution_count": 14,
     "metadata": {},
     "output_type": "execute_result"
    }
   ],
   "source": [
    "c"
   ]
  },
  {
   "cell_type": "code",
   "execution_count": 15,
   "metadata": {},
   "outputs": [],
   "source": [
    "b[0,0]=0"
   ]
  },
  {
   "cell_type": "code",
   "execution_count": 16,
   "metadata": {},
   "outputs": [
    {
     "data": {
      "text/plain": [
       "tensor([[ 0.0000,  1.2175],\n",
       "        [-0.7060,  0.1683]])"
      ]
     },
     "execution_count": 16,
     "metadata": {},
     "output_type": "execute_result"
    }
   ],
   "source": [
    "b"
   ]
  },
  {
   "cell_type": "code",
   "execution_count": 17,
   "metadata": {},
   "outputs": [],
   "source": [
    "c[3]=4"
   ]
  },
  {
   "cell_type": "code",
   "execution_count": 18,
   "metadata": {},
   "outputs": [
    {
     "data": {
      "text/plain": [
       "tensor([ 0.0000,  1.2175, -0.7060,  4.0000])"
      ]
     },
     "execution_count": 18,
     "metadata": {},
     "output_type": "execute_result"
    }
   ],
   "source": [
    "c"
   ]
  },
  {
   "cell_type": "code",
   "execution_count": 19,
   "metadata": {},
   "outputs": [
    {
     "data": {
      "text/plain": [
       "tensor([[ 0.0000,  1.2175],\n",
       "        [-0.7060,  4.0000]])"
      ]
     },
     "execution_count": 19,
     "metadata": {},
     "output_type": "execute_result"
    }
   ],
   "source": [
    "a"
   ]
  },
  {
   "cell_type": "code",
   "execution_count": 20,
   "metadata": {},
   "outputs": [
    {
     "data": {
      "text/plain": [
       "tensor([[ 0.0000,  1.2175],\n",
       "        [-0.7060,  4.0000]])"
      ]
     },
     "execution_count": 20,
     "metadata": {},
     "output_type": "execute_result"
    }
   ],
   "source": [
    "b"
   ]
  },
  {
   "cell_type": "code",
   "execution_count": 21,
   "metadata": {},
   "outputs": [],
   "source": [
    "a=torch.Tensor([[1,2],[3,4]])"
   ]
  },
  {
   "cell_type": "code",
   "execution_count": 22,
   "metadata": {},
   "outputs": [
    {
     "data": {
      "text/plain": [
       "tensor([[1., 2.],\n",
       "        [3., 4.]])"
      ]
     },
     "execution_count": 22,
     "metadata": {},
     "output_type": "execute_result"
    }
   ],
   "source": [
    "a"
   ]
  },
  {
   "cell_type": "code",
   "execution_count": 23,
   "metadata": {},
   "outputs": [],
   "source": [
    "b=a.add_(a)"
   ]
  },
  {
   "cell_type": "code",
   "execution_count": 24,
   "metadata": {},
   "outputs": [
    {
     "data": {
      "text/plain": [
       "tensor([[2., 4.],\n",
       "        [6., 8.]])"
      ]
     },
     "execution_count": 24,
     "metadata": {},
     "output_type": "execute_result"
    }
   ],
   "source": [
    "b"
   ]
  },
  {
   "cell_type": "code",
   "execution_count": 25,
   "metadata": {},
   "outputs": [
    {
     "data": {
      "text/plain": [
       "tensor([[2., 4.],\n",
       "        [6., 8.]])"
      ]
     },
     "execution_count": 25,
     "metadata": {},
     "output_type": "execute_result"
    }
   ],
   "source": [
    "a"
   ]
  },
  {
   "cell_type": "code",
   "execution_count": 26,
   "metadata": {},
   "outputs": [],
   "source": [
    "c=a.resize_(4)"
   ]
  },
  {
   "cell_type": "code",
   "execution_count": 27,
   "metadata": {},
   "outputs": [
    {
     "data": {
      "text/plain": [
       "tensor([2., 4., 6., 8.])"
      ]
     },
     "execution_count": 27,
     "metadata": {},
     "output_type": "execute_result"
    }
   ],
   "source": [
    "a"
   ]
  },
  {
   "cell_type": "code",
   "execution_count": 28,
   "metadata": {},
   "outputs": [
    {
     "data": {
      "text/plain": [
       "tensor([2., 4., 6., 8.])"
      ]
     },
     "execution_count": 28,
     "metadata": {},
     "output_type": "execute_result"
    }
   ],
   "source": [
    "c"
   ]
  },
  {
   "cell_type": "code",
   "execution_count": 29,
   "metadata": {},
   "outputs": [],
   "source": [
    "c=a.resize_(3)"
   ]
  },
  {
   "cell_type": "code",
   "execution_count": 30,
   "metadata": {},
   "outputs": [
    {
     "data": {
      "text/plain": [
       "tensor([2., 4., 6.])"
      ]
     },
     "execution_count": 30,
     "metadata": {},
     "output_type": "execute_result"
    }
   ],
   "source": [
    "c"
   ]
  },
  {
   "cell_type": "code",
   "execution_count": 31,
   "metadata": {},
   "outputs": [
    {
     "data": {
      "text/plain": [
       "tensor([2., 4., 6.])"
      ]
     },
     "execution_count": 31,
     "metadata": {},
     "output_type": "execute_result"
    }
   ],
   "source": [
    "a"
   ]
  },
  {
   "cell_type": "code",
   "execution_count": 32,
   "metadata": {},
   "outputs": [],
   "source": [
    "c=a.resize_(2)"
   ]
  },
  {
   "cell_type": "code",
   "execution_count": 33,
   "metadata": {},
   "outputs": [
    {
     "data": {
      "text/plain": [
       "tensor([2., 4.])"
      ]
     },
     "execution_count": 33,
     "metadata": {},
     "output_type": "execute_result"
    }
   ],
   "source": [
    "c"
   ]
  },
  {
   "cell_type": "code",
   "execution_count": 34,
   "metadata": {},
   "outputs": [
    {
     "data": {
      "text/plain": [
       "tensor([2., 4.])"
      ]
     },
     "execution_count": 34,
     "metadata": {},
     "output_type": "execute_result"
    }
   ],
   "source": [
    "a"
   ]
  },
  {
   "cell_type": "code",
   "execution_count": 35,
   "metadata": {},
   "outputs": [],
   "source": [
    "c=a.resize_(4)"
   ]
  },
  {
   "cell_type": "code",
   "execution_count": 36,
   "metadata": {},
   "outputs": [
    {
     "data": {
      "text/plain": [
       "tensor([2., 4., 6., 8.])"
      ]
     },
     "execution_count": 36,
     "metadata": {},
     "output_type": "execute_result"
    }
   ],
   "source": [
    "c"
   ]
  },
  {
   "cell_type": "code",
   "execution_count": 37,
   "metadata": {},
   "outputs": [
    {
     "data": {
      "text/plain": [
       "tensor([2., 4., 6., 8.])"
      ]
     },
     "execution_count": 37,
     "metadata": {},
     "output_type": "execute_result"
    }
   ],
   "source": [
    "a"
   ]
  },
  {
   "cell_type": "code",
   "execution_count": 38,
   "metadata": {},
   "outputs": [],
   "source": [
    "a=torch.randn(1,2)"
   ]
  },
  {
   "cell_type": "code",
   "execution_count": 39,
   "metadata": {},
   "outputs": [
    {
     "data": {
      "text/plain": [
       "tensor([[-0.4245,  0.9800]])"
      ]
     },
     "execution_count": 39,
     "metadata": {},
     "output_type": "execute_result"
    }
   ],
   "source": [
    "a"
   ]
  },
  {
   "cell_type": "code",
   "execution_count": 40,
   "metadata": {},
   "outputs": [],
   "source": [
    "b=a.numpy()"
   ]
  },
  {
   "cell_type": "code",
   "execution_count": 41,
   "metadata": {},
   "outputs": [
    {
     "data": {
      "text/plain": [
       "array([[-0.42452344,  0.9799566 ]], dtype=float32)"
      ]
     },
     "execution_count": 41,
     "metadata": {},
     "output_type": "execute_result"
    }
   ],
   "source": [
    "b"
   ]
  },
  {
   "cell_type": "code",
   "execution_count": 42,
   "metadata": {},
   "outputs": [
    {
     "data": {
      "text/plain": [
       "tensor([[-0.4245,  0.9800]])"
      ]
     },
     "execution_count": 42,
     "metadata": {},
     "output_type": "execute_result"
    }
   ],
   "source": [
    "a"
   ]
  },
  {
   "cell_type": "code",
   "execution_count": 43,
   "metadata": {},
   "outputs": [],
   "source": [
    "c=torch.from_numpy(b)"
   ]
  },
  {
   "cell_type": "code",
   "execution_count": 44,
   "metadata": {},
   "outputs": [
    {
     "data": {
      "text/plain": [
       "tensor([[-0.4245,  0.9800]])"
      ]
     },
     "execution_count": 44,
     "metadata": {},
     "output_type": "execute_result"
    }
   ],
   "source": [
    "c"
   ]
  },
  {
   "cell_type": "code",
   "execution_count": 45,
   "metadata": {},
   "outputs": [
    {
     "data": {
      "text/plain": [
       "tensor([[True, True]])"
      ]
     },
     "execution_count": 45,
     "metadata": {},
     "output_type": "execute_result"
    }
   ],
   "source": [
    "c==a"
   ]
  },
  {
   "cell_type": "code",
   "execution_count": 46,
   "metadata": {},
   "outputs": [],
   "source": [
    "d=a.tolist()"
   ]
  },
  {
   "cell_type": "code",
   "execution_count": 47,
   "metadata": {},
   "outputs": [
    {
     "data": {
      "text/plain": [
       "[[-0.4245234429836273, 0.9799566268920898]]"
      ]
     },
     "execution_count": 47,
     "metadata": {},
     "output_type": "execute_result"
    }
   ],
   "source": [
    "d"
   ]
  },
  {
   "cell_type": "code",
   "execution_count": 48,
   "metadata": {},
   "outputs": [],
   "source": [
    " a = torch.randn(2,2, requires_grad=True)"
   ]
  },
  {
   "cell_type": "code",
   "execution_count": 49,
   "metadata": {},
   "outputs": [
    {
     "data": {
      "text/plain": [
       "tensor([[-0.6521, -0.3534],\n",
       "        [ 0.4480, -0.9007]], requires_grad=True)"
      ]
     },
     "execution_count": 49,
     "metadata": {},
     "output_type": "execute_result"
    }
   ],
   "source": [
    "a"
   ]
  },
  {
   "cell_type": "code",
   "execution_count": 50,
   "metadata": {},
   "outputs": [],
   "source": [
    "x = torch.randn(1)"
   ]
  },
  {
   "cell_type": "code",
   "execution_count": 51,
   "metadata": {},
   "outputs": [
    {
     "data": {
      "text/plain": [
       "tensor([-0.8102])"
      ]
     },
     "execution_count": 51,
     "metadata": {},
     "output_type": "execute_result"
    }
   ],
   "source": [
    "x"
   ]
  },
  {
   "cell_type": "code",
   "execution_count": 52,
   "metadata": {},
   "outputs": [],
   "source": [
    " w = torch.ones(1, requires_grad=True)"
   ]
  },
  {
   "cell_type": "code",
   "execution_count": 53,
   "metadata": {},
   "outputs": [
    {
     "data": {
      "text/plain": [
       "tensor([1.], requires_grad=True)"
      ]
     },
     "execution_count": 53,
     "metadata": {},
     "output_type": "execute_result"
    }
   ],
   "source": [
    "w"
   ]
  },
  {
   "cell_type": "code",
   "execution_count": 54,
   "metadata": {},
   "outputs": [],
   "source": [
    "b = torch.ones(1, requires_grad=True)"
   ]
  },
  {
   "cell_type": "code",
   "execution_count": 55,
   "metadata": {},
   "outputs": [
    {
     "data": {
      "text/plain": [
       "tensor([1.], requires_grad=True)"
      ]
     },
     "execution_count": 55,
     "metadata": {},
     "output_type": "execute_result"
    }
   ],
   "source": [
    "b"
   ]
  },
  {
   "cell_type": "code",
   "execution_count": 56,
   "metadata": {},
   "outputs": [
    {
     "data": {
      "text/plain": [
       "(True, True, True)"
      ]
     },
     "execution_count": 56,
     "metadata": {},
     "output_type": "execute_result"
    }
   ],
   "source": [
    "x.is_leaf, w.is_leaf, b.is_leaf"
   ]
  },
  {
   "cell_type": "code",
   "execution_count": 57,
   "metadata": {},
   "outputs": [
    {
     "data": {
      "text/plain": [
       "(False, True, True)"
      ]
     },
     "execution_count": 57,
     "metadata": {},
     "output_type": "execute_result"
    }
   ],
   "source": [
    "x.requires_grad, w.requires_grad, b.requires_grad"
   ]
  },
  {
   "cell_type": "code",
   "execution_count": 58,
   "metadata": {},
   "outputs": [],
   "source": [
    "y=w*x"
   ]
  },
  {
   "cell_type": "code",
   "execution_count": 59,
   "metadata": {},
   "outputs": [
    {
     "data": {
      "text/plain": [
       "tensor([-0.8102], grad_fn=<MulBackward0>)"
      ]
     },
     "execution_count": 59,
     "metadata": {},
     "output_type": "execute_result"
    }
   ],
   "source": [
    "y"
   ]
  },
  {
   "cell_type": "code",
   "execution_count": 60,
   "metadata": {},
   "outputs": [],
   "source": [
    "z=y+b"
   ]
  },
  {
   "cell_type": "code",
   "execution_count": 61,
   "metadata": {},
   "outputs": [
    {
     "data": {
      "text/plain": [
       "tensor([0.1898], grad_fn=<AddBackward0>)"
      ]
     },
     "execution_count": 61,
     "metadata": {},
     "output_type": "execute_result"
    }
   ],
   "source": [
    "z"
   ]
  },
  {
   "cell_type": "code",
   "execution_count": 62,
   "metadata": {},
   "outputs": [
    {
     "data": {
      "text/plain": [
       "(False, False)"
      ]
     },
     "execution_count": 62,
     "metadata": {},
     "output_type": "execute_result"
    }
   ],
   "source": [
    "y.is_leaf, z.is_leaf"
   ]
  },
  {
   "cell_type": "code",
   "execution_count": 63,
   "metadata": {},
   "outputs": [
    {
     "data": {
      "text/plain": [
       "(True, True)"
      ]
     },
     "execution_count": 63,
     "metadata": {},
     "output_type": "execute_result"
    }
   ],
   "source": [
    "y.requires_grad, z.requires_grad"
   ]
  },
  {
   "cell_type": "code",
   "execution_count": 64,
   "metadata": {},
   "outputs": [
    {
     "data": {
      "text/plain": [
       "<MulBackward0 at 0x1a15ad44288>"
      ]
     },
     "execution_count": 64,
     "metadata": {},
     "output_type": "execute_result"
    }
   ],
   "source": [
    "y.grad_fn"
   ]
  },
  {
   "cell_type": "code",
   "execution_count": 65,
   "metadata": {},
   "outputs": [
    {
     "data": {
      "text/plain": [
       "<AddBackward0 at 0x1a15acd9a08>"
      ]
     },
     "execution_count": 65,
     "metadata": {},
     "output_type": "execute_result"
    }
   ],
   "source": [
    "z.grad_fn"
   ]
  },
  {
   "cell_type": "code",
   "execution_count": 66,
   "metadata": {},
   "outputs": [],
   "source": [
    " z.backward(retain_graph=True)"
   ]
  },
  {
   "cell_type": "code",
   "execution_count": 67,
   "metadata": {},
   "outputs": [
    {
     "data": {
      "text/plain": [
       "tensor([-0.8102])"
      ]
     },
     "execution_count": 67,
     "metadata": {},
     "output_type": "execute_result"
    }
   ],
   "source": [
    "w.grad"
   ]
  },
  {
   "cell_type": "code",
   "execution_count": 68,
   "metadata": {},
   "outputs": [
    {
     "data": {
      "text/plain": [
       "tensor([1.])"
      ]
     },
     "execution_count": 68,
     "metadata": {},
     "output_type": "execute_result"
    }
   ],
   "source": [
    " b.grad"
   ]
  },
  {
   "cell_type": "code",
   "execution_count": 74,
   "metadata": {},
   "outputs": [],
   "source": [
    "score = torch.randn(1,4)"
   ]
  },
  {
   "cell_type": "code",
   "execution_count": 75,
   "metadata": {},
   "outputs": [
    {
     "data": {
      "text/plain": [
       "tensor([[ 0.2264,  0.9814, -0.2997,  0.4821]])"
      ]
     },
     "execution_count": 75,
     "metadata": {},
     "output_type": "execute_result"
    }
   ],
   "source": [
    "score"
   ]
  },
  {
   "cell_type": "code",
   "execution_count": 76,
   "metadata": {},
   "outputs": [],
   "source": [
    " import torch.nn.functional as F"
   ]
  },
  {
   "cell_type": "code",
   "execution_count": 81,
   "metadata": {},
   "outputs": [
    {
     "data": {
      "text/plain": [
       "tensor([[0.1996, 0.4247, 0.1179, 0.2578]])"
      ]
     },
     "execution_count": 81,
     "metadata": {},
     "output_type": "execute_result"
    }
   ],
   "source": [
    " F.softmax(score, 1)"
   ]
  },
  {
   "cell_type": "code",
   "execution_count": 82,
   "metadata": {},
   "outputs": [],
   "source": [
    "from torch import nn"
   ]
  },
  {
   "cell_type": "code",
   "execution_count": 83,
   "metadata": {},
   "outputs": [],
   "source": [
    "dropout = nn.Dropout(0.5, inplace=False)"
   ]
  },
  {
   "cell_type": "code",
   "execution_count": 88,
   "metadata": {},
   "outputs": [],
   "source": [
    "input = torch.randn(2, 2, 7, 7)"
   ]
  },
  {
   "cell_type": "code",
   "execution_count": 89,
   "metadata": {},
   "outputs": [
    {
     "data": {
      "text/plain": [
       "tensor([[[[-0.7999,  0.4571, -0.7731, -0.9421,  1.5432,  1.7292, -1.1794],\n",
       "          [-1.8036, -0.2742, -0.4250,  0.8906, -0.2832, -1.4465,  0.7268],\n",
       "          [-0.0514,  0.7739, -0.5517, -1.7854, -0.3382, -0.5423,  1.2011],\n",
       "          [-0.8241, -0.7735, -0.9301, -1.3836,  1.3418,  0.4812,  0.6115],\n",
       "          [-0.6965,  0.8784, -1.3378, -1.3756, -1.3002, -0.7261,  2.4049],\n",
       "          [-1.0243, -0.1076, -0.9359,  1.4002, -0.8578,  0.4523, -0.5916],\n",
       "          [ 1.4841, -0.1707, -0.6925, -0.0757, -0.5128,  1.3285,  0.1598]],\n",
       "\n",
       "         [[-2.1818,  0.4381,  0.4846,  0.2136,  0.4540, -2.0582, -0.5905],\n",
       "          [-0.8623, -0.4892, -0.4721, -0.3235,  0.0489, -0.8850,  0.0082],\n",
       "          [-0.4857,  0.6328, -0.2539,  0.6846,  0.4658, -2.8459,  2.3162],\n",
       "          [ 1.2830, -0.1256,  1.6599, -2.2900, -1.4373, -0.1968,  1.0553],\n",
       "          [ 0.5210,  0.2188, -0.5191,  1.2875,  0.0232,  0.1458, -1.5699],\n",
       "          [ 0.2753,  0.7542,  0.6786,  0.1142, -1.2870,  2.5145,  1.3163],\n",
       "          [-0.8563,  0.5557,  1.1484,  0.2373, -0.1934,  0.1387,  1.0403]]],\n",
       "\n",
       "\n",
       "        [[[-0.3591, -0.4507,  0.1194, -1.6984, -0.3695, -0.1471, -1.1182],\n",
       "          [ 1.0679, -0.1682, -0.3014,  1.9674,  0.4502,  0.3438, -2.5246],\n",
       "          [ 1.0018, -1.1015, -0.2918,  1.1430, -0.3537,  1.8133,  0.9609],\n",
       "          [-0.0395,  0.2277, -0.9025,  1.0400,  0.7163,  0.7582, -1.2581],\n",
       "          [ 1.8866,  0.5937,  0.4725, -1.9338, -0.1353, -0.0986,  0.9860],\n",
       "          [ 1.0322, -0.3898,  0.2114,  0.7139,  0.6259,  0.9500,  1.0195],\n",
       "          [ 0.8518, -0.8556,  1.0253,  0.3850, -0.2306,  2.4637, -1.4026]],\n",
       "\n",
       "         [[-0.1489, -0.9894, -0.3120, -0.1227,  0.5896,  0.2595,  0.3916],\n",
       "          [-0.4825,  0.2218,  0.8366,  0.9339,  1.8494, -1.1024,  0.0797],\n",
       "          [ 1.4530,  1.0056, -1.1749,  1.3621,  0.0264,  0.1123, -0.3699],\n",
       "          [-0.0658, -0.2766,  2.1964, -0.6474,  0.6845, -0.6697, -1.9095],\n",
       "          [ 0.7315, -1.6683,  1.4700, -0.9920,  0.6381, -0.9150, -0.9888],\n",
       "          [ 1.5489,  0.1657, -0.3017,  1.5187,  2.0792,  1.6127,  2.3125],\n",
       "          [-0.4344,  0.0219, -0.3137, -1.1599,  0.9757, -1.0911,  1.0182]]]])"
      ]
     },
     "execution_count": 89,
     "metadata": {},
     "output_type": "execute_result"
    }
   ],
   "source": [
    "input"
   ]
  },
  {
   "cell_type": "code",
   "execution_count": 90,
   "metadata": {},
   "outputs": [],
   "source": [
    "output = dropout(input)"
   ]
  },
  {
   "cell_type": "code",
   "execution_count": 91,
   "metadata": {},
   "outputs": [
    {
     "data": {
      "text/plain": [
       "tensor([[[[-0.0000,  0.9142, -1.5462, -1.8843,  3.0863,  0.0000, -2.3588],\n",
       "          [-0.0000, -0.5484, -0.8500,  1.7812, -0.5664, -0.0000,  1.4535],\n",
       "          [-0.0000,  0.0000, -0.0000, -0.0000, -0.0000, -0.0000,  0.0000],\n",
       "          [-0.0000, -1.5470, -1.8602, -0.0000,  2.6837,  0.0000,  1.2229],\n",
       "          [-1.3930,  1.7568, -2.6756, -0.0000, -0.0000, -0.0000,  0.0000],\n",
       "          [-0.0000, -0.0000, -0.0000,  0.0000, -0.0000,  0.0000, -1.1831],\n",
       "          [ 0.0000, -0.0000, -0.0000, -0.1513, -1.0256,  0.0000,  0.3196]],\n",
       "\n",
       "         [[-0.0000,  0.8762,  0.0000,  0.0000,  0.9079, -4.1163, -0.0000],\n",
       "          [-0.0000, -0.0000, -0.0000, -0.0000,  0.0000, -1.7700,  0.0000],\n",
       "          [-0.9715,  0.0000, -0.0000,  0.0000,  0.9317, -5.6919,  4.6324],\n",
       "          [ 2.5660, -0.2512,  3.3199, -0.0000, -0.0000, -0.3937,  2.1106],\n",
       "          [ 1.0420,  0.4377, -0.0000,  2.5750,  0.0464,  0.2916, -3.1398],\n",
       "          [ 0.5506,  1.5084,  0.0000,  0.0000, -2.5739,  0.0000,  0.0000],\n",
       "          [-1.7125,  0.0000,  2.2968,  0.0000, -0.3868,  0.0000,  0.0000]]],\n",
       "\n",
       "\n",
       "        [[[-0.7183, -0.9013,  0.2388, -0.0000, -0.7390, -0.0000, -2.2365],\n",
       "          [ 0.0000, -0.0000, -0.0000,  3.9348,  0.0000,  0.6876, -0.0000],\n",
       "          [ 0.0000, -2.2030, -0.0000,  0.0000, -0.7074,  0.0000,  1.9218],\n",
       "          [-0.0000,  0.4553, -1.8051,  2.0800,  0.0000,  0.0000, -2.5162],\n",
       "          [ 0.0000,  1.1873,  0.9450, -3.8677, -0.0000, -0.0000,  0.0000],\n",
       "          [ 0.0000, -0.7795,  0.4228,  1.4278,  1.2518,  1.9001,  2.0390],\n",
       "          [ 0.0000, -1.7112,  0.0000,  0.0000, -0.4613,  0.0000, -0.0000]],\n",
       "\n",
       "         [[-0.2978, -1.9789, -0.6240, -0.0000,  1.1791,  0.0000,  0.7832],\n",
       "          [-0.9649,  0.4436,  0.0000,  1.8677,  0.0000, -0.0000,  0.1594],\n",
       "          [ 0.0000,  2.0112, -0.0000,  0.0000,  0.0000,  0.2245, -0.0000],\n",
       "          [-0.0000, -0.0000,  4.3928, -1.2948,  0.0000, -1.3394, -3.8189],\n",
       "          [ 1.4631, -0.0000,  0.0000, -1.9840,  1.2763, -0.0000, -0.0000],\n",
       "          [ 0.0000,  0.0000, -0.6034,  3.0373,  4.1584,  3.2255,  0.0000],\n",
       "          [-0.0000,  0.0437, -0.6273, -2.3199,  1.9514, -0.0000,  2.0363]]]])"
      ]
     },
     "execution_count": 91,
     "metadata": {},
     "output_type": "execute_result"
    }
   ],
   "source": [
    "output"
   ]
  },
  {
   "cell_type": "code",
   "execution_count": null,
   "metadata": {},
   "outputs": [],
   "source": []
  }
 ],
 "metadata": {
  "kernelspec": {
   "display_name": "'pytorch'",
   "language": "python",
   "name": "torch"
  },
  "language_info": {
   "codemirror_mode": {
    "name": "ipython",
    "version": 3
   },
   "file_extension": ".py",
   "mimetype": "text/x-python",
   "name": "python",
   "nbconvert_exporter": "python",
   "pygments_lexer": "ipython3",
   "version": "3.7.7"
  }
 },
 "nbformat": 4,
 "nbformat_minor": 2
}
