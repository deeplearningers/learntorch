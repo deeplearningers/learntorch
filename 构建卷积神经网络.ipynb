{
 "cells": [
  {
   "cell_type": "code",
   "execution_count": 7,
   "metadata": {},
   "outputs": [],
   "source": [
    "import torch as t\n",
    "from torch.utils.data import DataLoader\n",
    "import torchvision as tv"
   ]
  },
  {
   "cell_type": "code",
   "execution_count": 5,
   "metadata": {},
   "outputs": [],
   "source": [
    "transform = tv.transforms.Compose([tv.transforms.ToTensor(),\n",
    "                                  tv.transforms.Normalize((0.5,), (0.5,)),\n",
    "                             ])"
   ]
  },
  {
   "cell_type": "code",
   "execution_count": 8,
   "metadata": {},
   "outputs": [],
   "source": [
    "train_ts = tv.datasets.MNIST(root='./data', train=True, download=True, transform=transform)\n",
    "test_ts = tv.datasets.MNIST(root='./data', train=False, download=True, transform=transform)\n",
    "train_dl = DataLoader(train_ts, batch_size=32, shuffle=True, drop_last=False)\n",
    "test_dl = DataLoader(test_ts, batch_size=64, shuffle=True, drop_last=False)"
   ]
  },
  {
   "cell_type": "code",
   "execution_count": 9,
   "metadata": {},
   "outputs": [],
   "source": [
    "#自定义网络结构的实现方法\n",
    "class CNN_Net(t.nn.Module):\n",
    "    def __init__(self):\n",
    "        super(CNN_Net, self).__init__()\n",
    "        self.cnn_layers = t.nn.Sequential(\n",
    "            t.nn.Conv2d(in_channels=1, out_channels=8, kernel_size=3, padding=1, stride=1),\n",
    "            t.nn.MaxPool2d(kernel_size=2, stride=2),\n",
    "            t.nn.ReLU(),\n",
    "            t.nn.Conv2d(in_channels=8, out_channels=32, kernel_size=3, padding=1, stride=1),\n",
    "            t.nn.MaxPool2d(kernel_size=2, stride=2),\n",
    "            t.nn.ReLU(),\n",
    "        )\n",
    "        self.fc_layers = t.nn.Sequential(\n",
    "            t.nn.Linear(7 * 7 * 32, 200),\n",
    "            t.nn.ReLU(),\n",
    "            t.nn.Linear(200, 100),\n",
    "            t.nn.ReLU(),\n",
    "            t.nn.Linear(100, 10),\n",
    "            t.nn.LogSoftmax(dim=1)\n",
    "        )\n",
    "\n",
    "    def forward(self, x):\n",
    "        out = self.cnn_layers(x)\n",
    "        out = out.view(-1, 7 * 7 * 32)\n",
    "        out = self.fc_layers(out)\n",
    "        return out"
   ]
  },
  {
   "cell_type": "code",
   "execution_count": 11,
   "metadata": {},
   "outputs": [
    {
     "name": "stdout",
     "output_type": "stream",
     "text": [
      "run in step : 0\n",
      "100 0.4613865911960602\n",
      "200 0.4756956100463867\n",
      "300 0.05229443684220314\n",
      "400 0.15475468337535858\n",
      "500 0.13041836023330688\n",
      "600 0.06947698444128036\n",
      "700 0.13500292599201202\n",
      "800 0.06984113901853561\n",
      "900 0.06036350503563881\n",
      "1000 0.033883947879076004\n",
      "1100 0.02862543612718582\n",
      "1200 0.010611496865749359\n",
      "1300 0.015622371807694435\n",
      "1400 0.11151580512523651\n",
      "1500 0.04479527473449707\n",
      "1600 0.02578495256602764\n",
      "1700 0.015884483233094215\n",
      "1800 0.004390612244606018\n",
      "run in step : 1\n",
      "100 0.07802199572324753\n",
      "200 0.02140556462109089\n",
      "300 0.07667724043130875\n",
      "400 0.037296004593372345\n",
      "500 0.23584680259227753\n",
      "600 0.04446800798177719\n",
      "700 0.029841862618923187\n",
      "800 0.057519782334566116\n",
      "900 0.0244471225887537\n",
      "1000 0.0971626415848732\n",
      "1100 0.0013018350582569838\n",
      "1200 0.1106468141078949\n",
      "1300 0.005024254787713289\n",
      "1400 0.010726489126682281\n",
      "1500 0.003038842463865876\n",
      "1600 0.007501841057091951\n",
      "1700 0.0054342783987522125\n",
      "1800 0.0032863905653357506\n",
      "run in step : 2\n",
      "100 0.16931504011154175\n",
      "200 0.1293685883283615\n",
      "300 0.01876557432115078\n",
      "400 0.00664218794554472\n",
      "500 0.0010995076736435294\n",
      "600 0.00933875609189272\n",
      "700 0.09573471546173096\n",
      "800 0.0014885871205478907\n",
      "900 0.005958883091807365\n",
      "1000 0.00407706992700696\n",
      "1100 0.10440661758184433\n",
      "1200 0.021065808832645416\n",
      "1300 0.011903682723641396\n",
      "1400 0.010385747998952866\n",
      "1500 0.1250932812690735\n",
      "1600 0.012018649838864803\n",
      "1700 0.011435113847255707\n",
      "1800 0.01820850558578968\n",
      "run in step : 3\n",
      "100 0.01577361673116684\n",
      "200 0.09055017679929733\n",
      "300 0.018636565655469894\n",
      "400 0.02877696231007576\n",
      "500 0.08782746642827988\n",
      "600 0.05355456843972206\n",
      "700 0.0015008379705250263\n",
      "800 0.02529248222708702\n",
      "900 0.050047487020492554\n",
      "1000 0.0024173841811716557\n",
      "1100 0.0025317363906651735\n",
      "1200 0.0009952906984835863\n",
      "1300 0.056114278733730316\n",
      "1400 0.1358170509338379\n",
      "1500 0.023655926808714867\n",
      "1600 0.006313977297395468\n",
      "1700 0.01070830225944519\n",
      "1800 0.09259446710348129\n",
      "run in step : 4\n",
      "100 0.015583135187625885\n",
      "200 0.0037936123553663492\n",
      "300 0.08853188157081604\n",
      "400 0.0019696815870702267\n",
      "500 0.006334635894745588\n",
      "600 0.00025682582054287195\n",
      "700 0.0005883082048967481\n",
      "800 0.001033549546264112\n",
      "900 0.009789206087589264\n",
      "1000 0.0018160766921937466\n",
      "1100 0.0010539600625634193\n",
      "1200 0.0019473186694085598\n",
      "1300 0.004338864702731371\n",
      "1400 0.000991055159829557\n",
      "1500 8.960851846495643e-05\n",
      "1600 0.01339583657681942\n",
      "1700 0.00021032105723861605\n",
      "1800 0.0008313427679240704\n"
     ]
    }
   ],
   "source": [
    "#训练\n",
    "#model = CNN_Net().cuda()\n",
    "model = CNN_Net()\n",
    "loss_fn= t.nn.CrossEntropyLoss()#交叉熵损失函数\n",
    "optimizer = t.optim.Adam(model.parameters(), lr=1e-3)#adam优化器\n",
    "\n",
    "for s in range(5):\n",
    "    print(\"run in step : %d\"%s)\n",
    "    for i, (x_train, y_train) in enumerate(train_dl):\n",
    "        #x_train = x_train.cuda()\n",
    "        #y_train = y_train.cuda()\n",
    "        y_pred = model.forward(x_train)\n",
    "        train_loss = loss_fn(y_pred, y_train)\n",
    "        if (i + 1) % 100 == 0:\n",
    "            print(i + 1, train_loss.item())\n",
    "        optimizer.zero_grad()\n",
    "        train_loss.backward()\n",
    "        optimizer.step()"
   ]
  },
  {
   "cell_type": "code",
   "execution_count": 15,
   "metadata": {},
   "outputs": [
    {
     "name": "stdout",
     "output_type": "stream",
     "text": [
      "9903 10000\n",
      "total acc : 0.9903\n",
      "\n"
     ]
    },
    {
     "name": "stderr",
     "output_type": "stream",
     "text": [
      "D:\\Anaconda3\\envs\\torch\\lib\\site-packages\\torch\\serialization.py:402: UserWarning: Couldn't retrieve source code for container of type CNN_Net. It won't be checked for correctness upon loading.\n",
      "  \"type \" + obj.__name__ + \". It won't be checked \"\n"
     ]
    }
   ],
   "source": [
    "#预测\n",
    "total = 0;\n",
    "correct_count = 0\n",
    "\n",
    "model.eval()\n",
    "for test_images, test_labels in test_dl:\n",
    "    with t.no_grad():\n",
    "        #pred_labels = model(test_images.cuda())\n",
    "        pred_labels = model(test_images)\n",
    "    predicted = t.max(pred_labels, 1)[1]\n",
    "    #correct_count += (predicted == test_labels.cuda()).sum()\n",
    "    correct_count += (predicted == test_labels).sum()\n",
    "    total += len(test_labels)\n",
    "print(correct_count.cpu().detach().numpy(), total)\n",
    "\n",
    "print(\"total acc : %.4f\\n\"%(correct_count.cpu().detach().numpy() / total))\n",
    "t.save(model, './cnn_mnist_model.pt')"
   ]
  },
  {
   "cell_type": "code",
   "execution_count": 27,
   "metadata": {},
   "outputs": [
    {
     "name": "stdout",
     "output_type": "stream",
     "text": [
      "graph(%input.1 : Float(1, 1, 28, 28),\n",
      "      %cnn_layers.0.weight : Float(8, 1, 3, 3),\n",
      "      %cnn_layers.0.bias : Float(8),\n",
      "      %cnn_layers.3.weight : Float(32, 8, 3, 3),\n",
      "      %cnn_layers.3.bias : Float(32),\n",
      "      %fc_layers.0.weight : Float(200, 1568),\n",
      "      %fc_layers.0.bias : Float(200),\n",
      "      %fc_layers.2.weight : Float(100, 200),\n",
      "      %fc_layers.2.bias : Float(100),\n",
      "      %fc_layers.4.weight : Float(10, 100),\n",
      "      %fc_layers.4.bias : Float(10)):\n",
      "  %11 : Float(1, 8, 28, 28) = onnx::Conv[dilations=[1, 1], group=1, kernel_shape=[3, 3], pads=[1, 1, 1, 1], strides=[1, 1]](%input.1, %cnn_layers.0.weight, %cnn_layers.0.bias) # D:\\Anaconda3\\envs\\torch\\lib\\site-packages\\torch\\nn\\modules\\conv.py:350:0\n",
      "  %12 : Float(1, 8, 14, 14) = onnx::MaxPool[kernel_shape=[2, 2], pads=[0, 0, 0, 0], strides=[2, 2]](%11) # D:\\Anaconda3\\envs\\torch\\lib\\site-packages\\torch\\nn\\functional.py:539:0\n",
      "  %13 : Float(1, 8, 14, 14) = onnx::Relu(%12) # D:\\Anaconda3\\envs\\torch\\lib\\site-packages\\torch\\nn\\functional.py:1063:0\n",
      "  %14 : Float(1, 32, 14, 14) = onnx::Conv[dilations=[1, 1], group=1, kernel_shape=[3, 3], pads=[1, 1, 1, 1], strides=[1, 1]](%13, %cnn_layers.3.weight, %cnn_layers.3.bias) # D:\\Anaconda3\\envs\\torch\\lib\\site-packages\\torch\\nn\\modules\\conv.py:350:0\n",
      "  %15 : Float(1, 32, 7, 7) = onnx::MaxPool[kernel_shape=[2, 2], pads=[0, 0, 0, 0], strides=[2, 2]](%14) # D:\\Anaconda3\\envs\\torch\\lib\\site-packages\\torch\\nn\\functional.py:539:0\n",
      "  %16 : Float(1, 32, 7, 7) = onnx::Relu(%15) # D:\\Anaconda3\\envs\\torch\\lib\\site-packages\\torch\\nn\\functional.py:1063:0\n",
      "  %17 : Tensor = onnx::Constant[value=   -1  1568 [ CPULongType{2} ]]()\n",
      "  %18 : Float(1, 1568) = onnx::Reshape(%16, %17) # <ipython-input-9-059dff32755e>:24:0\n",
      "  %19 : Float(1, 200) = onnx::Gemm[alpha=1., beta=1., transB=1](%18, %fc_layers.0.weight, %fc_layers.0.bias) # D:\\Anaconda3\\envs\\torch\\lib\\site-packages\\torch\\nn\\functional.py:1610:0\n",
      "  %20 : Float(1, 200) = onnx::Relu(%19) # D:\\Anaconda3\\envs\\torch\\lib\\site-packages\\torch\\nn\\functional.py:1063:0\n",
      "  %21 : Float(1, 100) = onnx::Gemm[alpha=1., beta=1., transB=1](%20, %fc_layers.2.weight, %fc_layers.2.bias) # D:\\Anaconda3\\envs\\torch\\lib\\site-packages\\torch\\nn\\functional.py:1610:0\n",
      "  %22 : Float(1, 100) = onnx::Relu(%21) # D:\\Anaconda3\\envs\\torch\\lib\\site-packages\\torch\\nn\\functional.py:1063:0\n",
      "  %23 : Float(1, 10) = onnx::Gemm[alpha=1., beta=1., transB=1](%22, %fc_layers.4.weight, %fc_layers.4.bias) # D:\\Anaconda3\\envs\\torch\\lib\\site-packages\\torch\\nn\\functional.py:1610:0\n",
      "  %24 : Float(1, 10) = onnx::LogSoftmax[axis=1](%23) # D:\\Anaconda3\\envs\\torch\\lib\\site-packages\\torch\\nn\\functional.py:1535:0\n",
      "  return (%24)\n",
      "\n"
     ]
    }
   ],
   "source": [
    "#pt模型转为onnx格式\n",
    "#dummy_input = torch.randn(1, 1, 28, 28, device='cuda')\n",
    "dummy_input = t.randn(1, 1, 28, 28, device='cpu')\n",
    "model = t.load(\"./cnn_mnist_model.pt\")\n",
    "t.onnx.export(model, dummy_input, \"cnn_mnist.onnx\", verbose=True)"
   ]
  },
  {
   "cell_type": "code",
   "execution_count": null,
   "metadata": {},
   "outputs": [
    {
     "name": "stdout",
     "output_type": "stream",
     "text": [
      "(1, 1, 28, 28)\n",
      "predit label : 0\n"
     ]
    }
   ],
   "source": [
    "import cv2 as cv\n",
    "import numpy as np\n",
    "\n",
    "mnist_net = cv.dnn.readNetFromONNX(\"cnn_mnist.onnx\")\n",
    "image = cv.imread(\"test_image.jpg\")\n",
    "gray = cv.cvtColor(image, cv.COLOR_BGR2GRAY)\n",
    "cv.imshow(\"input\", gray)\n",
    "blob = cv.dnn.blobFromImage(gray, 0.00392, (28, 28), (0.5)) / 0.5\n",
    "print(blob.shape)\n",
    "mnist_net.setInput(blob)\n",
    "result = mnist_net.forward()\n",
    "pred_label = np.argmax(result, 1)\n",
    "print(\"predit label : %d\"%pred_label)\n",
    "cv.waitKey(0)\n",
    "cv.destroyAllWindows()"
   ]
  },
  {
   "cell_type": "code",
   "execution_count": null,
   "metadata": {},
   "outputs": [],
   "source": []
  }
 ],
 "metadata": {
  "kernelspec": {
   "display_name": "'pytorch'",
   "language": "python",
   "name": "torch"
  },
  "language_info": {
   "codemirror_mode": {
    "name": "ipython",
    "version": 3
   },
   "file_extension": ".py",
   "mimetype": "text/x-python",
   "name": "python",
   "nbconvert_exporter": "python",
   "pygments_lexer": "ipython3",
   "version": "3.7.7"
  }
 },
 "nbformat": 4,
 "nbformat_minor": 2
}
