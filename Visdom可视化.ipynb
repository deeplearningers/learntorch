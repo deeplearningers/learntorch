{
 "cells": [
  {
   "cell_type": "code",
   "execution_count": 24,
   "metadata": {},
   "outputs": [],
   "source": [
    "from visdom import Visdom\n",
    "import torch\n",
    "from torch.utils.data import DataLoader\n",
    "from torchvision import datasets,transforms"
   ]
  },
  {
   "cell_type": "code",
   "execution_count": 11,
   "metadata": {},
   "outputs": [
    {
     "name": "stderr",
     "output_type": "stream",
     "text": [
      "Setting up a new session...\n"
     ]
    },
    {
     "data": {
      "text/plain": [
       "'train loss'"
      ]
     },
     "execution_count": 11,
     "metadata": {},
     "output_type": "execute_result"
    }
   ],
   "source": [
    "'''\n",
    " 单条追踪曲线设置\n",
    "'''\n",
    "viz = Visdom()  # 初始化visdom类\n",
    "viz.line([0.],    ## Y的第一个点坐标\n",
    "         [0.],    ## X的第一个点坐标\n",
    "         win=\"train loss\",    ##窗口名称\n",
    "         opts=dict(title='train_loss')  ## 图像标例\n",
    "        )  #设置起始点\n",
    "'''\n",
    "模型数据\n",
    "'''\n",
    "viz.line([1.],   ## Y的下一个点坐标\n",
    "         [1.],   ## X的下一个点坐标\n",
    "         win=\"train loss\", ## 窗口名称 与上个窗口同名表示显示在同一个表格里\n",
    "         update='append'   ## 添加到上一个点后面\n",
    "        )  "
   ]
  },
  {
   "cell_type": "code",
   "execution_count": 13,
   "metadata": {},
   "outputs": [
    {
     "name": "stderr",
     "output_type": "stream",
     "text": [
      "Setting up a new session...\n"
     ]
    },
    {
     "data": {
      "text/plain": [
       "'test loss'"
      ]
     },
     "execution_count": 13,
     "metadata": {},
     "output_type": "execute_result"
    }
   ],
   "source": [
    "'''\n",
    " 多条曲线绘制 实际上就是传入y值时为一个向量\n",
    " '''\n",
    "viz = Visdom() # 注意此时我已经换了新环境,env='torch'\n",
    " #设置起始点\n",
    "viz.line([[0.0,0.0]],    ## Y的起始点\n",
    "          [0.],    ## X的起始点\n",
    "          win=\"test loss\",    ##窗口名称\n",
    "          opts=dict(title='test_loss')  ## 图像标例\n",
    "        )  \n",
    "'''\n",
    "模型数据\n",
    "'''\n",
    "viz.line([[1.1,1.5]],   ## Y的下一个点\n",
    "         [1.],   ## X的下一个点\n",
    "         win=\"test loss\", ## 窗口名称\n",
    "         update='append'   ## 添加到上一个点后面\n",
    "        )  "
   ]
  },
  {
   "cell_type": "code",
   "execution_count": 26,
   "metadata": {},
   "outputs": [
    {
     "data": {
      "text/plain": [
       "'mnist'"
      ]
     },
     "execution_count": 26,
     "metadata": {},
     "output_type": "execute_result"
    }
   ],
   "source": [
    "#可视化数据集\n",
    "train_loader = torch.utils.data.DataLoader(datasets.MNIST(\n",
    "    'data',\n",
    "    train=True,\n",
    "    download=True,\n",
    "    transform=transforms.Compose(\n",
    "        [transforms.ToTensor()])),batch_size=128,shuffle=True)\n",
    "sample=next(iter(train_loader)) # 通过迭代器获取样本\n",
    "# sample[0]为样本数据 sample[1]为类别  nrow=16表示每行显示16张图像\n",
    "viz.images(sample[0],nrow=16,win='mnist',opts=dict(title='mnist'))"
   ]
  },
  {
   "cell_type": "code",
   "execution_count": null,
   "metadata": {},
   "outputs": [],
   "source": []
  }
 ],
 "metadata": {
  "kernelspec": {
   "display_name": "'pytorch'",
   "language": "python",
   "name": "torch"
  },
  "language_info": {
   "codemirror_mode": {
    "name": "ipython",
    "version": 3
   },
   "file_extension": ".py",
   "mimetype": "text/x-python",
   "name": "python",
   "nbconvert_exporter": "python",
   "pygments_lexer": "ipython3",
   "version": "3.7.7"
  }
 },
 "nbformat": 4,
 "nbformat_minor": 2
}
